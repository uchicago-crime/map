{
 "cells": [
  {
   "cell_type": "code",
   "execution_count": 1,
   "metadata": {},
   "outputs": [],
   "source": [
    "import pandas as pd\n",
    "from requests_html import HTMLSession\n",
    "import geocoder\n",
    "import folium"
   ]
  },
  {
   "cell_type": "code",
   "execution_count": 2,
   "metadata": {},
   "outputs": [],
   "source": [
    "session = HTMLSession()\n",
    "r = session.get(\"https://incidentreports.uchicago.edu/incidentReportArchive.php?startDate=03%2F01%2F2024&endDate=03%2F10%2F2024\")\n",
    "num_pages = int(r.html.search(\"1 / {}\")[0])"
   ]
  },
  {
   "cell_type": "code",
   "execution_count": 3,
   "metadata": {},
   "outputs": [],
   "source": [
    "df = pd.DataFrame()\n",
    "for i in range(num_pages):\n",
    "    link = f\"https://incidentreports.uchicago.edu/incidentReportArchive.php?startDate=03%2F01%2F2024&endDate=03%2F10%2F2024&offset={i*5}\"\n",
    "    table = pd.read_html(link)[0]\n",
    "    df = pd.concat([df, table], ignore_index = True)"
   ]
  },
  {
   "cell_type": "code",
   "execution_count": 4,
   "metadata": {},
   "outputs": [],
   "source": [
    "df[\"Location\"] = df[\"Location\"].str.replace(\" \\\\(.*\", \"\", regex = True)\n",
    "df = df[df.Incident.str.match('Theft|Robbery|Battery|Assault')]\n",
    "df[\"Location\"] = df[\"Location\"] + \", Chicago, IL\"\n",
    "df[\"Location\"] = df[\"Location\"].apply(lambda add: geocoder.osm(add).latlng)\n",
    "crime_table = df.filter(items = [\"Incident\", \"Location\", \"Reported\"])"
   ]
  },
  {
   "cell_type": "code",
   "execution_count": 5,
   "metadata": {},
   "outputs": [],
   "source": [
    "min_lng, max_lng = -87.610, -87.583\n",
    "min_lat, max_lat = 41.783, 41.805\n",
    "\n",
    "m = folium.Map(\n",
    "    location = [41.793983, -87.594633],\n",
    "    tiles = \"Cartodb Positron\",\n",
    "    zoom_start = 14,\n",
    "    min_zoom = 14,\n",
    "    max_bounds = True,\n",
    "    min_lat=min_lat,\n",
    "    max_lat=max_lat,\n",
    "    min_lon=min_lng,\n",
    "    max_lon=max_lng,\n",
    "    )"
   ]
  },
  {
   "cell_type": "code",
   "execution_count": 6,
   "metadata": {},
   "outputs": [],
   "source": [
    "crime_table = crime_table.replace(r'.*Theft.*', 'Theft', regex = True)\n",
    "crime_table = crime_table.replace(r'.*Robbery.*', 'Armed Robbery', regex = True)\n",
    "crime_table = crime_table.replace(r'.*Battery|Assault.*', 'Battery/Assault', regex = True)"
   ]
  },
  {
   "cell_type": "code",
   "execution_count": 7,
   "metadata": {},
   "outputs": [
    {
     "data": {
      "text/plain": [
       "2     <folium.vector_layers.CircleMarker object at 0...\n",
       "6     <folium.vector_layers.CircleMarker object at 0...\n",
       "8     <folium.vector_layers.CircleMarker object at 0...\n",
       "12    <folium.vector_layers.CircleMarker object at 0...\n",
       "13    <folium.vector_layers.CircleMarker object at 0...\n",
       "20    <folium.vector_layers.CircleMarker object at 0...\n",
       "21    <folium.vector_layers.CircleMarker object at 0...\n",
       "dtype: object"
      ]
     },
     "execution_count": 7,
     "metadata": {},
     "output_type": "execute_result"
    }
   ],
   "source": [
    "colors = {\n",
    "    \"Theft\" : \"pink\",\n",
    "    \"Battery/Assault\" : \"orange\",\n",
    "    \"Armed Robbert\" : \"red\" \n",
    "    }\n",
    "\n",
    "crime_table.apply(lambda row:folium.CircleMarker(location=[row[\"Location\"][0], \n",
    "                                                           row[\"Location\"][1]], \n",
    "                                                           radius=5,\n",
    "                                                           stroke = False,\n",
    "                                                           fill_color = colors[row[\"Incident\"]],\n",
    "                                                           fill_opacity = 0.85,\n",
    "                                                           popup = row[\"Incident\"])\n",
    "                                                           .add_to(m), axis=1)\n"
   ]
  },
  {
   "cell_type": "code",
   "execution_count": null,
   "metadata": {},
   "outputs": [],
   "source": [
    "title = 'Map Title'\n",
    "title_html = '''\n",
    "             <h3 align=\"center\" style=\"font-size:16px\"><b>{}</b></h3>\n",
    "             '''.format(title)\n",
    "m.get_root().html.add_child(folium.Element(title_html))"
   ]
  },
  {
   "cell_type": "code",
   "execution_count": 8,
   "metadata": {},
   "outputs": [],
   "source": [
    "m.save(\"map.html\")"
   ]
  }
 ],
 "metadata": {
  "kernelspec": {
   "display_name": "Python 3",
   "language": "python",
   "name": "python3"
  },
  "language_info": {
   "codemirror_mode": {
    "name": "ipython",
    "version": 3
   },
   "file_extension": ".py",
   "mimetype": "text/x-python",
   "name": "python",
   "nbconvert_exporter": "python",
   "pygments_lexer": "ipython3",
   "version": "3.12.2"
  }
 },
 "nbformat": 4,
 "nbformat_minor": 2
}

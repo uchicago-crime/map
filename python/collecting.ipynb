{
 "cells": [
  {
   "cell_type": "code",
   "execution_count": 106,
   "metadata": {},
   "outputs": [],
   "source": [
    "import pandas as pd\n",
    "from requests_html import HTMLSession\n",
    "import geocoder"
   ]
  },
  {
   "cell_type": "code",
   "execution_count": 57,
   "metadata": {},
   "outputs": [],
   "source": [
    "session = HTMLSession()\n",
    "r = session.get(\"https://incidentreports.uchicago.edu/incidentReportArchive.php?startDate=03%2F01%2F2024&endDate=03%2F10%2F2024\")\n",
    "num_pages = int(r.html.search(\"1 / {}\")[0])"
   ]
  },
  {
   "cell_type": "code",
   "execution_count": 129,
   "metadata": {},
   "outputs": [],
   "source": [
    "df = pd.DataFrame()\n",
    "for i in range(num_pages):\n",
    "    link = f\"https://incidentreports.uchicago.edu/incidentReportArchive.php?startDate=03%2F01%2F2024&endDate=03%2F10%2F2024&offset={i*5}\"\n",
    "    table = pd.read_html(link)[0]\n",
    "    df = pd.concat([df, table], ignore_index = True)"
   ]
  },
  {
   "cell_type": "code",
   "execution_count": 130,
   "metadata": {},
   "outputs": [],
   "source": [
    "df[\"Location\"] = df[\"Location\"].str.replace(\" \\\\(.*\", \"\", regex = True)\n",
    "df = df[df.Incident.str.match('Theft|Robbery|Battery|Assault')]\n",
    "df[\"Location\"] = df[\"Location\"] + \", Chicago, IL\"\n",
    "df[\"Location\"] = df[\"Location\"].apply(lambda add: geocoder.osm(add).latlng)\n",
    "crime_table = df.filter(items = [\"Incident\", \"Location\", \"Reported\"])"
   ]
  },
  {
   "cell_type": "code",
   "execution_count": null,
   "metadata": {},
   "outputs": [],
   "source": []
  }
 ],
 "metadata": {
  "kernelspec": {
   "display_name": "Python 3",
   "language": "python",
   "name": "python3"
  },
  "language_info": {
   "codemirror_mode": {
    "name": "ipython",
    "version": 3
   },
   "file_extension": ".py",
   "mimetype": "text/x-python",
   "name": "python",
   "nbconvert_exporter": "python",
   "pygments_lexer": "ipython3",
   "version": "3.12.2"
  }
 },
 "nbformat": 4,
 "nbformat_minor": 2
}
